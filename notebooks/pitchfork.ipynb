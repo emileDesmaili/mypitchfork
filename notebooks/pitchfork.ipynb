{
 "cells": [
  {
   "cell_type": "code",
   "execution_count": 1,
   "id": "91e30816",
   "metadata": {
    "scrolled": true
   },
   "outputs": [
    {
     "name": "stdout",
     "output_type": "stream",
     "text": [
      "Collecting sentence-transformers\n",
      "  Using cached sentence-transformers-2.2.0.tar.gz (79 kB)\n",
      "  Preparing metadata (setup.py): started\n",
      "  Preparing metadata (setup.py): finished with status 'done'\n",
      "Requirement already satisfied: transformers<5.0.0,>=4.6.0 in c:\\users\\emileesmaili\\anaconda3\\lib\\site-packages (from sentence-transformers) (4.17.0)\n",
      "Requirement already satisfied: tqdm in c:\\users\\emileesmaili\\anaconda3\\lib\\site-packages (from sentence-transformers) (4.64.0)\n",
      "Requirement already satisfied: torch>=1.6.0 in c:\\users\\emileesmaili\\anaconda3\\lib\\site-packages (from sentence-transformers) (1.11.0)\n",
      "Requirement already satisfied: torchvision in c:\\users\\emileesmaili\\anaconda3\\lib\\site-packages (from sentence-transformers) (0.12.0)\n",
      "Requirement already satisfied: numpy in c:\\users\\emileesmaili\\anaconda3\\lib\\site-packages (from sentence-transformers) (1.21.5)\n",
      "Requirement already satisfied: scikit-learn in c:\\users\\emileesmaili\\anaconda3\\lib\\site-packages (from sentence-transformers) (1.0.2)\n",
      "Requirement already satisfied: scipy in c:\\users\\emileesmaili\\anaconda3\\lib\\site-packages (from sentence-transformers) (1.7.3)\n",
      "Requirement already satisfied: nltk in c:\\users\\emileesmaili\\anaconda3\\lib\\site-packages (from sentence-transformers) (3.7)\n",
      "Collecting sentencepiece\n",
      "  Downloading sentencepiece-0.1.96-cp39-cp39-win_amd64.whl (1.1 MB)\n",
      "     ---------------------------------------- 1.1/1.1 MB 9.8 MB/s eta 0:00:00\n",
      "Requirement already satisfied: huggingface-hub in c:\\users\\emileesmaili\\appdata\\roaming\\python\\python39\\site-packages (from sentence-transformers) (0.7.0)\n",
      "Requirement already satisfied: typing-extensions in c:\\users\\emileesmaili\\anaconda3\\lib\\site-packages (from torch>=1.6.0->sentence-transformers) (4.1.1)\n",
      "Requirement already satisfied: pyyaml>=5.1 in c:\\users\\emileesmaili\\anaconda3\\lib\\site-packages (from transformers<5.0.0,>=4.6.0->sentence-transformers) (6.0)\n",
      "Requirement already satisfied: tokenizers!=0.11.3,>=0.11.1 in c:\\users\\emileesmaili\\appdata\\roaming\\python\\python39\\site-packages (from transformers<5.0.0,>=4.6.0->sentence-transformers) (0.12.1)\n",
      "Requirement already satisfied: regex!=2019.12.17 in c:\\users\\emileesmaili\\anaconda3\\lib\\site-packages (from transformers<5.0.0,>=4.6.0->sentence-transformers) (2022.3.15)\n",
      "Requirement already satisfied: filelock in c:\\users\\emileesmaili\\anaconda3\\lib\\site-packages (from transformers<5.0.0,>=4.6.0->sentence-transformers) (3.6.0)\n",
      "Requirement already satisfied: sacremoses in c:\\users\\emileesmaili\\anaconda3\\lib\\site-packages (from transformers<5.0.0,>=4.6.0->sentence-transformers) (0.0.53)\n",
      "Requirement already satisfied: packaging>=20.0 in c:\\users\\emileesmaili\\appdata\\roaming\\python\\python39\\site-packages (from transformers<5.0.0,>=4.6.0->sentence-transformers) (21.3)\n",
      "Requirement already satisfied: requests in c:\\users\\emileesmaili\\anaconda3\\lib\\site-packages (from transformers<5.0.0,>=4.6.0->sentence-transformers) (2.27.1)\n",
      "Requirement already satisfied: colorama in c:\\users\\emileesmaili\\appdata\\roaming\\python\\python39\\site-packages (from tqdm->sentence-transformers) (0.4.4)\n",
      "Requirement already satisfied: joblib in c:\\users\\emileesmaili\\anaconda3\\lib\\site-packages (from nltk->sentence-transformers) (1.1.0)\n",
      "Requirement already satisfied: click in c:\\users\\emileesmaili\\anaconda3\\lib\\site-packages (from nltk->sentence-transformers) (8.0.4)\n",
      "Requirement already satisfied: threadpoolctl>=2.0.0 in c:\\users\\emileesmaili\\anaconda3\\lib\\site-packages (from scikit-learn->sentence-transformers) (2.2.0)\n",
      "Requirement already satisfied: pillow!=8.3.*,>=5.3.0 in c:\\users\\emileesmaili\\anaconda3\\lib\\site-packages (from torchvision->sentence-transformers) (9.0.1)\n",
      "Requirement already satisfied: pyparsing!=3.0.5,>=2.0.2 in c:\\users\\emileesmaili\\appdata\\roaming\\python\\python39\\site-packages (from packaging>=20.0->transformers<5.0.0,>=4.6.0->sentence-transformers) (3.0.9)\n",
      "Requirement already satisfied: charset-normalizer~=2.0.0 in c:\\users\\emileesmaili\\anaconda3\\lib\\site-packages (from requests->transformers<5.0.0,>=4.6.0->sentence-transformers) (2.0.4)\n",
      "Requirement already satisfied: certifi>=2017.4.17 in c:\\users\\emileesmaili\\anaconda3\\lib\\site-packages (from requests->transformers<5.0.0,>=4.6.0->sentence-transformers) (2021.10.8)\n",
      "Requirement already satisfied: urllib3<1.27,>=1.21.1 in c:\\users\\emileesmaili\\anaconda3\\lib\\site-packages (from requests->transformers<5.0.0,>=4.6.0->sentence-transformers) (1.22)\n",
      "Requirement already satisfied: idna<4,>=2.5 in c:\\users\\emileesmaili\\anaconda3\\lib\\site-packages (from requests->transformers<5.0.0,>=4.6.0->sentence-transformers) (2.6)\n",
      "Requirement already satisfied: six in c:\\users\\emileesmaili\\appdata\\roaming\\python\\python39\\site-packages (from sacremoses->transformers<5.0.0,>=4.6.0->sentence-transformers) (1.16.0)\n",
      "Building wheels for collected packages: sentence-transformers\n",
      "  Building wheel for sentence-transformers (setup.py): started\n",
      "  Building wheel for sentence-transformers (setup.py): finished with status 'done'\n",
      "  Created wheel for sentence-transformers: filename=sentence_transformers-2.2.0-py3-none-any.whl size=120735 sha256=88f9f12dd0d9423dedaaee28ec4a67308c33f523e7a65b221c53e95baf6a56f5\n",
      "  Stored in directory: c:\\users\\emileesmaili\\appdata\\local\\pip\\cache\\wheels\\2b\\11\\3b\\32a18fb9f2253b25d3d1a06f0a84e2d516e7efa19c8c71a283\n",
      "Successfully built sentence-transformers\n",
      "Installing collected packages: sentencepiece, sentence-transformers\n",
      "Successfully installed sentence-transformers-2.2.0 sentencepiece-0.1.96\n",
      "Note: you may need to restart the kernel to use updated packages.\n"
     ]
    }
   ],
   "source": [
    "pip install -U sentence-transformers\n"
   ]
  },
  {
   "cell_type": "code",
   "execution_count": 1,
   "id": "84ad43c4",
   "metadata": {},
   "outputs": [],
   "source": [
    "import pandas as pd\n",
    "from sentence_transformers import SentenceTransformer\n",
    "import seaborn as sns\n",
    "\n",
    "\n"
   ]
  },
  {
   "cell_type": "code",
   "execution_count": 17,
   "id": "61fe60e1",
   "metadata": {},
   "outputs": [
    {
     "data": {
      "text/html": [
       "<div>\n",
       "<style scoped>\n",
       "    .dataframe tbody tr th:only-of-type {\n",
       "        vertical-align: middle;\n",
       "    }\n",
       "\n",
       "    .dataframe tbody tr th {\n",
       "        vertical-align: top;\n",
       "    }\n",
       "\n",
       "    .dataframe thead th {\n",
       "        text-align: right;\n",
       "    }\n",
       "</style>\n",
       "<table border=\"1\" class=\"dataframe\">\n",
       "  <thead>\n",
       "    <tr style=\"text-align: right;\">\n",
       "      <th></th>\n",
       "      <th>artist</th>\n",
       "      <th>album</th>\n",
       "      <th>genre</th>\n",
       "      <th>score</th>\n",
       "      <th>date</th>\n",
       "      <th>author</th>\n",
       "      <th>role</th>\n",
       "      <th>review</th>\n",
       "      <th>bnm</th>\n",
       "      <th>link</th>\n",
       "      <th>label</th>\n",
       "      <th>release_year</th>\n",
       "    </tr>\n",
       "  </thead>\n",
       "  <tbody>\n",
       "    <tr>\n",
       "      <th>0</th>\n",
       "      <td>David Byrne</td>\n",
       "      <td>“…The Best Live Show of All Time” — NME EP</td>\n",
       "      <td>Rock</td>\n",
       "      <td>5.5</td>\n",
       "      <td>January 11 2019</td>\n",
       "      <td>Andy Beta</td>\n",
       "      <td>Contributor</td>\n",
       "      <td>Viva Brother, Terris, Mansun, the Twang, Joe L...</td>\n",
       "      <td>0</td>\n",
       "      <td>https://pitchfork.com/reviews/albums/david-byr...</td>\n",
       "      <td>Nonesuch</td>\n",
       "      <td>2018.0</td>\n",
       "    </tr>\n",
       "    <tr>\n",
       "      <th>1</th>\n",
       "      <td>DJ Healer</td>\n",
       "      <td>Lost Lovesongs / Lostsongs Vol. 2</td>\n",
       "      <td>Electronic</td>\n",
       "      <td>6.2</td>\n",
       "      <td>January 11 2019</td>\n",
       "      <td>Chal Ravens</td>\n",
       "      <td>Contributor</td>\n",
       "      <td>The Prince of Denmark—that is, the proper prin...</td>\n",
       "      <td>0</td>\n",
       "      <td>https://pitchfork.com/reviews/albums/dj-healer...</td>\n",
       "      <td>Planet Uterus</td>\n",
       "      <td>2019.0</td>\n",
       "    </tr>\n",
       "    <tr>\n",
       "      <th>2</th>\n",
       "      <td>Jorge Velez</td>\n",
       "      <td>Roman Birds</td>\n",
       "      <td>Electronic</td>\n",
       "      <td>7.9</td>\n",
       "      <td>January 10 2019</td>\n",
       "      <td>Philip Sherburne</td>\n",
       "      <td>Contributing Editor</td>\n",
       "      <td>Jorge Velez has long been prolific, but that’s...</td>\n",
       "      <td>0</td>\n",
       "      <td>https://pitchfork.com/reviews/albums/jorge-vel...</td>\n",
       "      <td>Self-released</td>\n",
       "      <td>2019.0</td>\n",
       "    </tr>\n",
       "    <tr>\n",
       "      <th>3</th>\n",
       "      <td>Chandra</td>\n",
       "      <td>Transportation EPs</td>\n",
       "      <td>Rock</td>\n",
       "      <td>7.8</td>\n",
       "      <td>January 10 2019</td>\n",
       "      <td>Andy Beta</td>\n",
       "      <td>Contributor</td>\n",
       "      <td>When the Avalanches returned in 2016 after an ...</td>\n",
       "      <td>0</td>\n",
       "      <td>https://pitchfork.com/reviews/albums/chandra-t...</td>\n",
       "      <td>Telephone Explosion</td>\n",
       "      <td>2018.0</td>\n",
       "    </tr>\n",
       "    <tr>\n",
       "      <th>4</th>\n",
       "      <td>The Chainsmokers</td>\n",
       "      <td>Sick Boy</td>\n",
       "      <td>Electronic</td>\n",
       "      <td>3.1</td>\n",
       "      <td>January 9 2019</td>\n",
       "      <td>Larry Fitzmaurice</td>\n",
       "      <td>Contributor</td>\n",
       "      <td>We’re going to be stuck with the Chainsmokers ...</td>\n",
       "      <td>0</td>\n",
       "      <td>https://pitchfork.com/reviews/albums/the-chain...</td>\n",
       "      <td>Disruptor,Columbia</td>\n",
       "      <td>2018.0</td>\n",
       "    </tr>\n",
       "  </tbody>\n",
       "</table>\n",
       "</div>"
      ],
      "text/plain": [
       "             artist                                       album       genre  \\\n",
       "0       David Byrne  “…The Best Live Show of All Time” — NME EP        Rock   \n",
       "1         DJ Healer           Lost Lovesongs / Lostsongs Vol. 2  Electronic   \n",
       "2       Jorge Velez                                 Roman Birds  Electronic   \n",
       "3           Chandra                          Transportation EPs        Rock   \n",
       "4  The Chainsmokers                                    Sick Boy  Electronic   \n",
       "\n",
       "   score             date             author                 role  \\\n",
       "0    5.5  January 11 2019          Andy Beta          Contributor   \n",
       "1    6.2  January 11 2019        Chal Ravens          Contributor   \n",
       "2    7.9  January 10 2019   Philip Sherburne  Contributing Editor   \n",
       "3    7.8  January 10 2019          Andy Beta          Contributor   \n",
       "4    3.1   January 9 2019  Larry Fitzmaurice          Contributor   \n",
       "\n",
       "                                              review  bnm  \\\n",
       "0  Viva Brother, Terris, Mansun, the Twang, Joe L...    0   \n",
       "1  The Prince of Denmark—that is, the proper prin...    0   \n",
       "2  Jorge Velez has long been prolific, but that’s...    0   \n",
       "3  When the Avalanches returned in 2016 after an ...    0   \n",
       "4  We’re going to be stuck with the Chainsmokers ...    0   \n",
       "\n",
       "                                                link                label  \\\n",
       "0  https://pitchfork.com/reviews/albums/david-byr...             Nonesuch   \n",
       "1  https://pitchfork.com/reviews/albums/dj-healer...        Planet Uterus   \n",
       "2  https://pitchfork.com/reviews/albums/jorge-vel...        Self-released   \n",
       "3  https://pitchfork.com/reviews/albums/chandra-t...  Telephone Explosion   \n",
       "4  https://pitchfork.com/reviews/albums/the-chain...   Disruptor,Columbia   \n",
       "\n",
       "   release_year  \n",
       "0        2018.0  \n",
       "1        2019.0  \n",
       "2        2019.0  \n",
       "3        2018.0  \n",
       "4        2018.0  "
      ]
     },
     "execution_count": 17,
     "metadata": {},
     "output_type": "execute_result"
    }
   ],
   "source": [
    "p4k_data = pd.read_csv(r'C:\\Users\\EmileESMAILI\\OneDrive - Ekimetrics\\Documents\\Python Scripts\\pitchfork.csv')\n",
    "p4k_data.head()"
   ]
  },
  {
   "cell_type": "code",
   "execution_count": 18,
   "id": "16496492",
   "metadata": {},
   "outputs": [
    {
     "data": {
      "text/plain": [
       "<AxesSubplot:xlabel='artist'>"
      ]
     },
     "execution_count": 18,
     "metadata": {},
     "output_type": "execute_result"
    },
    {
     "data": {
      "image/png": "[encoded data removed]",
      "text/plain": [
       "<Figure size 432x288 with 1 Axes>"
      ]
     },
     "metadata": {
      "needs_background": "light"
     },
     "output_type": "display_data"
    }
   ],
   "source": [
    "data_by_artist = p4k_data.groupby('artist').mean()\n",
    "data_by_artist['score'].nlargest(20).plot.bar()"
   ]
  },
  {
   "cell_type": "code",
   "execution_count": 19,
   "id": "f4c2b0a2",
   "metadata": {},
   "outputs": [
    {
     "data": {
      "text/plain": [
       "<AxesSubplot:xlabel='score', ylabel='Count'>"
      ]
     },
     "execution_count": 19,
     "metadata": {},
     "output_type": "execute_result"
    },
    {
     "data": {
      "image/png": "[encoded data removed]",
      "text/plain": [
       "<Figure size 432x288 with 1 Axes>"
      ]
     },
     "metadata": {
      "needs_background": "light"
     },
     "output_type": "display_data"
    }
   ],
   "source": [
    "sns.histplot(p4k_data,x='score')"
   ]
  },
  {
   "cell_type": "code",
   "execution_count": 32,
   "id": "1eaf4976",
   "metadata": {},
   "outputs": [
    {
     "data": {
      "text/plain": [
       "<AxesSubplot:xlabel='release_year'>"
      ]
     },
     "execution_count": 32,
     "metadata": {},
     "output_type": "execute_result"
    },
    {
     "data": {
      "image/png": "[encoded data removed]",
      "text/plain": [
       "<Figure size 432x288 with 1 Axes>"
      ]
     },
     "metadata": {
      "needs_background": "light"
     },
     "output_type": "display_data"
    }
   ],
   "source": [
    "bnm_per_year = p4k_data.groupby('release_year').sum()['bnm']\n",
    "bnm_per_year.plot()\n"
   ]
  },
  {
   "cell_type": "code",
   "execution_count": 33,
   "id": "2038a252",
   "metadata": {},
   "outputs": [
    {
     "data": {
      "text/plain": [
       "<AxesSubplot:xlabel='release_year'>"
      ]
     },
     "execution_count": 33,
     "metadata": {},
     "output_type": "execute_result"
    },
    {
     "data": {
      "image/png": "[encoded data removed]",
      "text/plain": [
       "<Figure size 432x288 with 1 Axes>"
      ]
     },
     "metadata": {
      "needs_background": "light"
     },
     "output_type": "display_data"
    }
   ],
   "source": [
    "score_per_year = p4k_data.groupby('release_year').mean()['score']\n",
    "score_per_year.plot()"
   ]
  },
  {
   "cell_type": "code",
   "execution_count": 76,
   "id": "3cb27182",
   "metadata": {},
   "outputs": [
    {
     "data": {
      "text/plain": [
       "0.05351410913620467"
      ]
     },
     "execution_count": 76,
     "metadata": {},
     "output_type": "execute_result"
    }
   ],
   "source": [
    "p4k_data['bnm'].sum()/p4k_data['bnm'].count()"
   ]
  },
  {
   "cell_type": "code",
   "execution_count": 34,
   "id": "25aa88b0",
   "metadata": {},
   "outputs": [],
   "source": [
    "sentences = p4k_data['review']\n",
    "\n",
    "\n",
    "model = SentenceTransformer('sentence-transformers/all-MiniLM-L6-v2')\n",
    "embeddings = model.encode(sentences)\n",
    "\n"
   ]
  },
  {
   "cell_type": "code",
   "execution_count": 35,
   "id": "e69c71d7",
   "metadata": {},
   "outputs": [
    {
     "data": {
      "text/plain": [
       "20873"
      ]
     },
     "execution_count": 35,
     "metadata": {},
     "output_type": "execute_result"
    }
   ],
   "source": [
    "len(embeddings)"
   ]
  },
  {
   "cell_type": "code",
   "execution_count": 43,
   "id": "ed137564",
   "metadata": {},
   "outputs": [],
   "source": [
    "p4k_data['vec'] = pd.Series(list(embeddings))\n",
    "\n",
    "\n",
    "    "
   ]
  },
  {
   "cell_type": "code",
   "execution_count": 44,
   "id": "bb60afca",
   "metadata": {},
   "outputs": [
    {
     "data": {
      "text/html": [
       "<div>\n",
       "<style scoped>\n",
       "    .dataframe tbody tr th:only-of-type {\n",
       "        vertical-align: middle;\n",
       "    }\n",
       "\n",
       "    .dataframe tbody tr th {\n",
       "        vertical-align: top;\n",
       "    }\n",
       "\n",
       "    .dataframe thead th {\n",
       "        text-align: right;\n",
       "    }\n",
       "</style>\n",
       "<table border=\"1\" class=\"dataframe\">\n",
       "  <thead>\n",
       "    <tr style=\"text-align: right;\">\n",
       "      <th></th>\n",
       "      <th>artist</th>\n",
       "      <th>album</th>\n",
       "      <th>genre</th>\n",
       "      <th>score</th>\n",
       "      <th>date</th>\n",
       "      <th>author</th>\n",
       "      <th>role</th>\n",
       "      <th>review</th>\n",
       "      <th>bnm</th>\n",
       "      <th>link</th>\n",
       "      <th>label</th>\n",
       "      <th>release_year</th>\n",
       "      <th>vec</th>\n",
       "    </tr>\n",
       "  </thead>\n",
       "  <tbody>\n",
       "    <tr>\n",
       "      <th>0</th>\n",
       "      <td>David Byrne</td>\n",
       "      <td>“…The Best Live Show of All Time” — NME EP</td>\n",
       "      <td>Rock</td>\n",
       "      <td>5.5</td>\n",
       "      <td>January 11 2019</td>\n",
       "      <td>Andy Beta</td>\n",
       "      <td>Contributor</td>\n",
       "      <td>Viva Brother, Terris, Mansun, the Twang, Joe L...</td>\n",
       "      <td>0</td>\n",
       "      <td>https://pitchfork.com/reviews/albums/david-byr...</td>\n",
       "      <td>Nonesuch</td>\n",
       "      <td>2018.0</td>\n",
       "      <td>[0.020074358, 0.0043206215, -0.039724294, -0.0...</td>\n",
       "    </tr>\n",
       "    <tr>\n",
       "      <th>1</th>\n",
       "      <td>DJ Healer</td>\n",
       "      <td>Lost Lovesongs / Lostsongs Vol. 2</td>\n",
       "      <td>Electronic</td>\n",
       "      <td>6.2</td>\n",
       "      <td>January 11 2019</td>\n",
       "      <td>Chal Ravens</td>\n",
       "      <td>Contributor</td>\n",
       "      <td>The Prince of Denmark—that is, the proper prin...</td>\n",
       "      <td>0</td>\n",
       "      <td>https://pitchfork.com/reviews/albums/dj-healer...</td>\n",
       "      <td>Planet Uterus</td>\n",
       "      <td>2019.0</td>\n",
       "      <td>[-0.048721667, 0.022776516, 0.037752792, -0.04...</td>\n",
       "    </tr>\n",
       "    <tr>\n",
       "      <th>2</th>\n",
       "      <td>Jorge Velez</td>\n",
       "      <td>Roman Birds</td>\n",
       "      <td>Electronic</td>\n",
       "      <td>7.9</td>\n",
       "      <td>January 10 2019</td>\n",
       "      <td>Philip Sherburne</td>\n",
       "      <td>Contributing Editor</td>\n",
       "      <td>Jorge Velez has long been prolific, but that’s...</td>\n",
       "      <td>0</td>\n",
       "      <td>https://pitchfork.com/reviews/albums/jorge-vel...</td>\n",
       "      <td>Self-released</td>\n",
       "      <td>2019.0</td>\n",
       "      <td>[-0.031132638, -0.07010498, -0.0051508243, -0....</td>\n",
       "    </tr>\n",
       "    <tr>\n",
       "      <th>3</th>\n",
       "      <td>Chandra</td>\n",
       "      <td>Transportation EPs</td>\n",
       "      <td>Rock</td>\n",
       "      <td>7.8</td>\n",
       "      <td>January 10 2019</td>\n",
       "      <td>Andy Beta</td>\n",
       "      <td>Contributor</td>\n",
       "      <td>When the Avalanches returned in 2016 after an ...</td>\n",
       "      <td>0</td>\n",
       "      <td>https://pitchfork.com/reviews/albums/chandra-t...</td>\n",
       "      <td>Telephone Explosion</td>\n",
       "      <td>2018.0</td>\n",
       "      <td>[-0.14617802, -0.095591985, 0.022203773, -0.02...</td>\n",
       "    </tr>\n",
       "    <tr>\n",
       "      <th>4</th>\n",
       "      <td>The Chainsmokers</td>\n",
       "      <td>Sick Boy</td>\n",
       "      <td>Electronic</td>\n",
       "      <td>3.1</td>\n",
       "      <td>January 9 2019</td>\n",
       "      <td>Larry Fitzmaurice</td>\n",
       "      <td>Contributor</td>\n",
       "      <td>We’re going to be stuck with the Chainsmokers ...</td>\n",
       "      <td>0</td>\n",
       "      <td>https://pitchfork.com/reviews/albums/the-chain...</td>\n",
       "      <td>Disruptor,Columbia</td>\n",
       "      <td>2018.0</td>\n",
       "      <td>[-0.043482017, -0.02071257, 0.038199544, -0.06...</td>\n",
       "    </tr>\n",
       "  </tbody>\n",
       "</table>\n",
       "</div>"
      ],
      "text/plain": [
       "             artist                                       album       genre  \\\n",
       "0       David Byrne  “…The Best Live Show of All Time” — NME EP        Rock   \n",
       "1         DJ Healer           Lost Lovesongs / Lostsongs Vol. 2  Electronic   \n",
       "2       Jorge Velez                                 Roman Birds  Electronic   \n",
       "3           Chandra                          Transportation EPs        Rock   \n",
       "4  The Chainsmokers                                    Sick Boy  Electronic   \n",
       "\n",
       "   score             date             author                 role  \\\n",
       "0    5.5  January 11 2019          Andy Beta          Contributor   \n",
       "1    6.2  January 11 2019        Chal Ravens          Contributor   \n",
       "2    7.9  January 10 2019   Philip Sherburne  Contributing Editor   \n",
       "3    7.8  January 10 2019          Andy Beta          Contributor   \n",
       "4    3.1   January 9 2019  Larry Fitzmaurice          Contributor   \n",
       "\n",
       "                                              review  bnm  \\\n",
       "0  Viva Brother, Terris, Mansun, the Twang, Joe L...    0   \n",
       "1  The Prince of Denmark—that is, the proper prin...    0   \n",
       "2  Jorge Velez has long been prolific, but that’s...    0   \n",
       "3  When the Avalanches returned in 2016 after an ...    0   \n",
       "4  We’re going to be stuck with the Chainsmokers ...    0   \n",
       "\n",
       "                                                link                label  \\\n",
       "0  https://pitchfork.com/reviews/albums/david-byr...             Nonesuch   \n",
       "1  https://pitchfork.com/reviews/albums/dj-healer...        Planet Uterus   \n",
       "2  https://pitchfork.com/reviews/albums/jorge-vel...        Self-released   \n",
       "3  https://pitchfork.com/reviews/albums/chandra-t...  Telephone Explosion   \n",
       "4  https://pitchfork.com/reviews/albums/the-chain...   Disruptor,Columbia   \n",
       "\n",
       "   release_year                                                vec  \n",
       "0        2018.0  [0.020074358, 0.0043206215, -0.039724294, -0.0...  \n",
       "1        2019.0  [-0.048721667, 0.022776516, 0.037752792, -0.04...  \n",
       "2        2019.0  [-0.031132638, -0.07010498, -0.0051508243, -0....  \n",
       "3        2018.0  [-0.14617802, -0.095591985, 0.022203773, -0.02...  \n",
       "4        2018.0  [-0.043482017, -0.02071257, 0.038199544, -0.06...  "
      ]
     },
     "execution_count": 44,
     "metadata": {},
     "output_type": "execute_result"
    }
   ],
   "source": [
    "p4k_data.head()"
   ]
  },
  {
   "cell_type": "code",
   "execution_count": 142,
   "id": "f3d7555a",
   "metadata": {},
   "outputs": [],
   "source": [
    "from sklearn.model_selection import train_test_split\n",
    " \n",
    "X_train, X_test, y_train, y_test = train_test_split(\n",
    "    list(p4k_data.vec),\n",
    "    p4k_data.score,\n",
    "    test_size = 0.3,\n",
    "    random_state=42\n",
    ")\n",
    "#X_train = X_train.reshape(-1, 1)\n",
    "#X_test = X_test.reshape(-1,1)"
   ]
  },
  {
   "cell_type": "code",
   "execution_count": 143,
   "id": "6a629214",
   "metadata": {},
   "outputs": [],
   "source": [
    "from sklearn.ensemble import RandomForestRegressor, RandomForestClassifier\n",
    " \n",
    "rfc = RandomForestClassifier(n_estimators=100)\n",
    "rfr = RandomForestRegressor(n_estimators=100)\n",
    "rfr.fit(X_train, y_train)\n",
    "\n",
    " "
   ]
  },
  {
   "cell_type": "code",
   "execution_count": 146,
   "id": "19c156c6",
   "metadata": {},
   "outputs": [],
   "source": [
    "# save the model to disk\n",
    "import pickle\n",
    "filename = 'C:/git/mypitchfork/models/score_model.sav'\n",
    "pickle.dump(rfr, open(filename, 'wb'))"
   ]
  },
  {
   "cell_type": "code",
   "execution_count": 147,
   "id": "7f96f9fc",
   "metadata": {},
   "outputs": [
    {
     "name": "stdout",
     "output_type": "stream",
     "text": [
      "0.041592653464677776\n"
     ]
    }
   ],
   "source": [
    "# load the model from disk\n",
    "loaded_model = pickle.load(open(filename, 'rb'))\n",
    "result = loaded_model.score(X_test, y_test)\n",
    "print(result)\n",
    "preds = rfr.predict(X_test)\n"
   ]
  },
  {
   "cell_type": "code",
   "execution_count": 148,
   "id": "c79e42ec",
   "metadata": {},
   "outputs": [],
   "source": [
    "sentence = \"this album by Frank Ocean is a amazing\""
   ]
  },
  {
   "cell_type": "code",
   "execution_count": 149,
   "id": "4bdf80db",
   "metadata": {},
   "outputs": [
    {
     "data": {
      "text/plain": [
       "array([7.32])"
      ]
     },
     "execution_count": 149,
     "metadata": {},
     "output_type": "execute_result"
    }
   ],
   "source": [
    "new_review = model.encode(sentence)\n",
    "rfr.predict(new_review.reshape(1,-1))"
   ]
  },
  {
   "cell_type": "code",
   "execution_count": 98,
   "id": "dae12243",
   "metadata": {},
   "outputs": [],
   "source": [
    "p4k_data.to_csv('pitchfork_data_vec.csv')\n"
   ]
  },
  {
   "cell_type": "code",
   "execution_count": 54,
   "id": "ee66fa62",
   "metadata": {},
   "outputs": [],
   "source": [
    "import numpy as np\n",
    "from numpy.linalg import norm"
   ]
  },
  {
   "cell_type": "code",
   "execution_count": 55,
   "id": "0971ab18",
   "metadata": {},
   "outputs": [],
   "source": [
    "A = p4k_data['vec'][2]\n",
    "B = p4k_data['vec'][3]"
   ]
  },
  {
   "cell_type": "code",
   "execution_count": 56,
   "id": "5d7f28ec",
   "metadata": {},
   "outputs": [
    {
     "data": {
      "text/plain": [
       "0.284634"
      ]
     },
     "execution_count": 56,
     "metadata": {},
     "output_type": "execute_result"
    }
   ],
   "source": [
    "np.dot(A,B)/(norm(A)*norm(B))"
   ]
  },
  {
   "cell_type": "code",
   "execution_count": 79,
   "id": "d3d9ecdf",
   "metadata": {},
   "outputs": [],
   "source": [
    "p4k_data['review'].to_csv('p4k.txt', header=None, index=None, sep=' ', mode='a')"
   ]
  },
  {
   "cell_type": "code",
   "execution_count": 101,
   "id": "a3dc0615",
   "metadata": {},
   "outputs": [
    {
     "data": {
      "text/plain": [
       "array([-4.87216674e-02,  2.27765162e-02,  3.77527922e-02, -4.81720418e-02,\n",
       "       -1.71378553e-02,  4.26961482e-02,  6.97037429e-02, -2.97807083e-02,\n",
       "        4.14139479e-02, -2.59138681e-02, -2.45451275e-02, -2.43275799e-02,\n",
       "        2.70897131e-02, -6.62309974e-02,  2.45081447e-02,  3.05697089e-03,\n",
       "        1.55214118e-02,  5.24853542e-02, -1.12235676e-02,  7.88289979e-02,\n",
       "       -7.79734924e-02, -8.60251412e-02, -2.30065780e-03, -8.91735703e-02,\n",
       "       -1.99694559e-02,  4.33128625e-02,  8.91099051e-02,  3.44729819e-03,\n",
       "       -8.39906037e-02,  8.28215387e-03,  4.01164517e-02, -1.25533389e-02,\n",
       "       -7.05871359e-02,  1.43248001e-02,  1.27400272e-02,  1.43828571e-01,\n",
       "       -5.18756956e-02,  7.28203915e-03,  1.06316321e-02,  7.09946081e-02,\n",
       "        7.62281939e-02,  2.85076797e-02,  1.15297744e-02,  1.19344480e-02,\n",
       "       -7.60760275e-04,  3.55458609e-03, -3.30498591e-02, -9.83820707e-02,\n",
       "       -6.88460916e-02, -3.67590114e-02, -9.72976312e-02, -3.16955484e-02,\n",
       "        1.50214151e-01, -6.37058765e-02,  1.66112669e-02, -2.11622342e-02,\n",
       "        3.63826565e-02,  5.84671833e-02,  2.98593659e-02, -1.78255327e-02,\n",
       "       -1.95686631e-02, -4.95731831e-02,  8.57240111e-02, -3.10360696e-02,\n",
       "       -2.51043458e-02, -3.72020975e-02,  2.94824876e-02,  7.64795691e-02,\n",
       "        6.84511429e-03,  5.93826436e-02, -4.06326130e-02, -9.99404304e-03,\n",
       "       -1.66062396e-02, -3.33804451e-02, -4.83187847e-02, -3.28893103e-02,\n",
       "       -6.39221743e-02, -9.12561938e-02,  3.92020270e-02, -2.57216897e-02,\n",
       "        3.38801891e-02,  2.26150155e-02, -7.70968646e-02, -6.41229600e-02,\n",
       "       -6.97584823e-02, -7.39719067e-03,  9.22502950e-02,  1.99952256e-02,\n",
       "       -2.60111280e-02, -9.51810367e-03,  5.61924875e-02,  4.66775075e-02,\n",
       "       -2.40679104e-02,  7.88000450e-02,  2.62903702e-02,  4.85999994e-02,\n",
       "        8.09057280e-02,  1.00642018e-01, -2.00304333e-02,  4.81607094e-02,\n",
       "        1.39004309e-02,  3.24112698e-02,  2.33266875e-02, -5.17290458e-03,\n",
       "       -6.75047040e-02, -5.96767515e-02, -1.86702088e-02,  4.54651192e-02,\n",
       "       -3.31038632e-03, -5.38752787e-02, -1.08932070e-01, -3.77424546e-02,\n",
       "       -1.00940941e-02, -6.55666962e-02,  7.84895420e-02,  1.17948808e-01,\n",
       "        4.83224429e-02,  6.76016212e-02, -2.57717799e-02,  2.48011965e-02,\n",
       "        4.49349061e-02,  7.67279742e-03,  1.26985684e-02,  1.06172673e-01,\n",
       "        5.72265089e-02,  8.41460675e-02, -4.01049964e-02,  8.35199022e-34,\n",
       "       -2.05536000e-02,  1.37858624e-02,  4.67560478e-02,  6.65611103e-02,\n",
       "        3.10194623e-02,  2.49804594e-02, -5.34701943e-02, -1.47832008e-02,\n",
       "        1.87914073e-02,  5.69096953e-03,  3.38555686e-02, -6.53051287e-02,\n",
       "       -1.07684962e-01,  7.66446395e-03, -1.20063044e-01,  6.28747838e-03,\n",
       "       -1.97763965e-02, -3.73536237e-02, -8.65764730e-03, -4.21067625e-02,\n",
       "        3.37059610e-02,  3.52074280e-02,  5.14231771e-02,  1.11962028e-01,\n",
       "       -4.04272191e-02,  2.95076519e-02,  6.78801164e-02,  1.18519245e-02,\n",
       "        1.20226234e-01,  1.48805035e-02, -2.48851776e-02, -9.22394544e-03,\n",
       "       -3.29021402e-02, -6.92860484e-02, -4.27895859e-02, -2.75235297e-03,\n",
       "       -8.47479627e-02, -2.88768802e-02, -5.37579097e-02, -6.19771890e-03,\n",
       "       -6.98756147e-03, -2.94785332e-02,  7.86095858e-03, -3.61559540e-02,\n",
       "       -9.58174691e-02, -1.04864361e-02, -2.59064138e-02, -1.30994814e-02,\n",
       "        2.71255057e-02, -4.98847030e-02,  1.27699263e-02, -3.49006057e-02,\n",
       "        2.58706063e-02, -1.28505938e-02,  6.03656238e-03, -7.40406811e-02,\n",
       "       -8.20886940e-02,  8.58483312e-04,  5.35140000e-02, -8.10954627e-03,\n",
       "        1.09538414e-01, -5.23051061e-02, -4.49197041e-03,  6.10076487e-02,\n",
       "        9.29324236e-03, -1.92300938e-02,  3.54499556e-02,  9.98638198e-03,\n",
       "       -5.97326411e-03,  3.47335786e-02,  2.35880422e-03,  3.30427028e-02,\n",
       "       -2.53740400e-02,  5.32625429e-02,  4.50983876e-03,  1.99079495e-02,\n",
       "       -1.29986525e-01, -6.86591193e-02, -1.00526005e-01,  4.20597307e-02,\n",
       "       -1.00282021e-01,  7.60811716e-02, -8.84493515e-02,  4.61723097e-03,\n",
       "       -2.68948190e-02, -7.72802159e-02, -2.32524751e-03, -3.33181359e-02,\n",
       "        7.90130049e-02,  1.35804430e-01, -1.02830678e-02,  5.17615536e-03,\n",
       "       -1.03263266e-01, -3.33723426e-02, -6.85430467e-02, -2.73991809e-33,\n",
       "       -2.66307741e-02, -2.39770561e-02, -1.09360775e-03,  4.53578569e-02,\n",
       "        3.72055732e-02, -4.36125919e-02,  4.37244866e-03,  9.24808085e-02,\n",
       "        2.67273337e-02, -4.40523289e-02, -4.69959341e-03, -5.77512570e-02,\n",
       "       -1.93929765e-02, -1.78140644e-02, -7.23610399e-04,  1.52628031e-02,\n",
       "        2.18110941e-02,  2.30890326e-02, -2.05395836e-02,  2.89225709e-02,\n",
       "        4.21177633e-02, -2.42251381e-02,  2.28049327e-03, -1.64036695e-02,\n",
       "       -7.29531376e-03,  9.90767702e-02, -7.37575591e-02,  4.50713299e-02,\n",
       "       -5.22292703e-02,  3.87558751e-02,  2.24134158e-02,  5.76567613e-02,\n",
       "        5.38027938e-03,  1.86152495e-02, -2.86944304e-03,  7.57367462e-02,\n",
       "       -5.39179556e-02, -2.40183882e-02,  1.84605606e-02, -1.84848327e-02,\n",
       "        4.31357836e-03, -6.96971193e-02, -3.95589285e-02,  1.00250743e-01,\n",
       "        1.24777863e-02, -8.78779441e-02, -5.90234343e-03,  4.75973450e-02,\n",
       "        6.94174916e-02, -4.83395196e-02, -8.82768631e-02,  4.04075421e-02,\n",
       "        2.94716470e-02, -8.73362347e-02,  6.74811974e-02,  5.88233396e-03,\n",
       "       -5.45718484e-02, -2.98304111e-02, -2.09470000e-02,  1.64476950e-02,\n",
       "       -1.47601934e-02, -4.11633067e-02,  3.01431846e-02, -2.08695065e-02,\n",
       "       -1.05235046e-02,  1.28399625e-01,  5.34830876e-02,  4.82321307e-02,\n",
       "        4.77294028e-02, -5.64655997e-02,  1.05933249e-01,  5.32244472e-03,\n",
       "       -9.36734825e-02,  3.74655961e-03,  7.40276324e-03,  3.30248661e-02,\n",
       "       -5.90689071e-02,  6.86153397e-02, -2.38791127e-02, -7.05021545e-02,\n",
       "        1.18254637e-02, -9.67786089e-02, -1.79838669e-02, -6.98492676e-02,\n",
       "        2.82634292e-02,  5.11710681e-02,  6.78868731e-03, -2.89114704e-03,\n",
       "       -2.27362756e-02, -5.62483370e-02,  3.45318876e-02, -4.54923697e-02,\n",
       "       -9.04278755e-02,  3.26674618e-02, -2.90955491e-02, -6.35173265e-08,\n",
       "       -8.59153196e-02, -4.90526073e-02,  3.92235145e-02, -6.91835806e-02,\n",
       "        1.46341708e-03, -1.08585125e-02,  3.01508345e-02, -7.56584900e-03,\n",
       "       -1.93326008e-02,  1.05099134e-01,  2.45636869e-02, -2.19728183e-02,\n",
       "        3.44925337e-02,  3.01864035e-02,  1.02067322e-01, -1.37928426e-02,\n",
       "       -2.77978275e-02,  3.38421315e-02, -5.89078851e-02,  2.50965357e-02,\n",
       "       -2.38331277e-02,  2.71030760e-04,  7.12760910e-03, -4.31823581e-02,\n",
       "       -1.60538126e-02, -8.14861245e-03, -3.00393384e-02, -2.64744703e-02,\n",
       "        4.85402718e-02, -2.98250504e-02,  1.01922609e-01,  4.42380115e-04,\n",
       "        3.00371777e-02,  6.20963238e-02, -6.18841350e-02,  1.83890574e-02,\n",
       "       -1.10849813e-01, -2.23393645e-02, -1.66119859e-02,  4.64114137e-02,\n",
       "       -1.65662859e-02, -2.83722822e-02, -2.02047341e-02,  1.55970110e-02,\n",
       "       -3.96601064e-03, -7.66819492e-02,  1.93846524e-02, -1.71642229e-02,\n",
       "       -3.34535055e-02,  3.78749035e-02, -2.09208764e-02,  2.23205192e-04,\n",
       "        9.37142894e-02,  8.95636249e-03, -2.08658241e-02, -1.14278216e-02,\n",
       "       -7.63306301e-03,  1.30214006e-01, -6.80983439e-02, -1.11776190e-02,\n",
       "       -1.29399532e-02, -5.10226153e-02,  1.38250878e-02, -1.10854348e-02],\n",
       "      dtype=float32)"
      ]
     },
     "execution_count": 101,
     "metadata": {},
     "output_type": "execute_result"
    }
   ],
   "source": []
  },
  {
   "cell_type": "code",
   "execution_count": null,
   "id": "987d08b0",
   "metadata": {},
   "outputs": [],
   "source": []
  }
 ],
 "metadata": {
  "kernelspec": {
   "display_name": "Python 3 (ipykernel)",
   "language": "python",
   "name": "python3"
  },
  "language_info": {
   "codemirror_mode": {
    "name": "ipython",
    "version": 3
   },
   "file_extension": ".py",
   "mimetype": "text/x-python",
   "name": "python",
   "nbconvert_exporter": "python",
   "pygments_lexer": "ipython3",
   "version": "3.9.12"
  }
 },
 "nbformat": 4,
 "nbformat_minor": 5
}
